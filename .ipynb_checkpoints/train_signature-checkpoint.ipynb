{
 "cells": [
  {
   "cell_type": "code",
   "execution_count": null,
   "id": "401d31e6-5a63-47ad-aad7-287c32f33197",
   "metadata": {},
   "outputs": [],
   "source": [
    "Instalasi PyTorch"
   ]
  },
  {
   "cell_type": "code",
   "execution_count": 1,
   "id": "8369dae0-6233-4808-a080-cc43c4effe81",
   "metadata": {},
   "outputs": [
    {
     "name": "stdout",
     "output_type": "stream",
     "text": [
      "Requirement already satisfied: torch in c:\\users\\aanid\\appdata\\local\\programs\\python\\python312\\lib\\site-packages (2.3.0)\n",
      "Requirement already satisfied: torchvision in c:\\users\\aanid\\appdata\\local\\programs\\python\\python312\\lib\\site-packages (0.18.0)\n",
      "Requirement already satisfied: filelock in c:\\users\\aanid\\appdata\\local\\programs\\python\\python312\\lib\\site-packages (from torch) (3.14.0)\n",
      "Requirement already satisfied: typing-extensions>=4.8.0 in c:\\users\\aanid\\appdata\\local\\programs\\python\\python312\\lib\\site-packages (from torch) (4.9.0)\n",
      "Requirement already satisfied: sympy in c:\\users\\aanid\\appdata\\local\\programs\\python\\python312\\lib\\site-packages (from torch) (1.12.1)\n",
      "Requirement already satisfied: networkx in c:\\users\\aanid\\appdata\\local\\programs\\python\\python312\\lib\\site-packages (from torch) (3.3)\n",
      "Requirement already satisfied: jinja2 in c:\\users\\aanid\\appdata\\local\\programs\\python\\python312\\lib\\site-packages (from torch) (3.1.3)\n",
      "Requirement already satisfied: fsspec in c:\\users\\aanid\\appdata\\local\\programs\\python\\python312\\lib\\site-packages (from torch) (2024.5.0)\n",
      "Requirement already satisfied: mkl<=2021.4.0,>=2021.1.1 in c:\\users\\aanid\\appdata\\local\\programs\\python\\python312\\lib\\site-packages (from torch) (2021.4.0)\n",
      "Requirement already satisfied: numpy in c:\\users\\aanid\\appdata\\local\\programs\\python\\python312\\lib\\site-packages (from torchvision) (1.26.3)\n",
      "Requirement already satisfied: pillow!=8.3.*,>=5.3.0 in c:\\users\\aanid\\appdata\\local\\programs\\python\\python312\\lib\\site-packages (from torchvision) (10.2.0)\n",
      "Requirement already satisfied: intel-openmp==2021.* in c:\\users\\aanid\\appdata\\local\\programs\\python\\python312\\lib\\site-packages (from mkl<=2021.4.0,>=2021.1.1->torch) (2021.4.0)\n",
      "Requirement already satisfied: tbb==2021.* in c:\\users\\aanid\\appdata\\local\\programs\\python\\python312\\lib\\site-packages (from mkl<=2021.4.0,>=2021.1.1->torch) (2021.12.0)\n",
      "Requirement already satisfied: MarkupSafe>=2.0 in c:\\users\\aanid\\appdata\\local\\programs\\python\\python312\\lib\\site-packages (from jinja2->torch) (2.1.3)\n",
      "Requirement already satisfied: mpmath<1.4.0,>=1.1.0 in c:\\users\\aanid\\appdata\\local\\programs\\python\\python312\\lib\\site-packages (from sympy->torch) (1.3.0)\n",
      "Note: you may need to restart the kernel to use updated packages.\n"
     ]
    },
    {
     "name": "stderr",
     "output_type": "stream",
     "text": [
      "\n",
      "[notice] A new release of pip is available: 24.0 -> 24.1.1\n",
      "[notice] To update, run: python.exe -m pip install --upgrade pip\n"
     ]
    }
   ],
   "source": [
    "pip install torch torchvision"
   ]
  },
  {
   "cell_type": "code",
   "execution_count": 12,
   "id": "e533c0b9-8954-45c9-a16f-ef7a16aba68b",
   "metadata": {},
   "outputs": [],
   "source": [
    "import torch\n",
    "import torch.nn as nn\n",
    "import torch.optim as optim\n",
    "from torch.optim import lr_scheduler\n",
    "from torchvision import datasets, models, transforms\n",
    "from torch.utils.data import DataLoader\n",
    "import numpy as np\n",
    "import matplotlib.pyplot as plt\n",
    "import time\n",
    "import os\n",
    "import copy\n",
    "import torchvision"
   ]
  },
  {
   "cell_type": "code",
   "execution_count": null,
   "id": "96d797de-7fe7-4920-b93c-319637dd9335",
   "metadata": {},
   "outputs": [],
   "source": [
    "Tentukan Device (GPU atau CPU)"
   ]
  },
  {
   "cell_type": "code",
   "execution_count": 3,
   "id": "60829895-adf9-40c5-9443-c8e6ece4172e",
   "metadata": {},
   "outputs": [],
   "source": [
    "device = torch.device(\"cuda:0\" if torch.cuda.is_available() else \"cpu\")"
   ]
  },
  {
   "cell_type": "code",
   "execution_count": null,
   "id": "56b6e52a-3e01-4f56-a46e-bfa85cdb5ab0",
   "metadata": {},
   "outputs": [],
   "source": [
    "Data Augmentation dan Normalisasi"
   ]
  },
  {
   "cell_type": "code",
   "execution_count": 4,
   "id": "f5e49a5c-19db-48c5-b2f0-6b96246b6f91",
   "metadata": {},
   "outputs": [],
   "source": [
    "data_transforms = {\n",
    "    'train': transforms.Compose([\n",
    "        transforms.RandomResizedCrop(224),\n",
    "        transforms.RandomHorizontalFlip(),\n",
    "        transforms.ToTensor(),\n",
    "        transforms.Normalize([0.485, 0.456, 0.406], [0.229, 0.224, 0.225])\n",
    "    ]),\n",
    "    'test': transforms.Compose([\n",
    "        transforms.Resize(256),\n",
    "        transforms.CenterCrop(224),\n",
    "        transforms.ToTensor(),\n",
    "        transforms.Normalize([0.485, 0.456, 0.406], [0.229, 0.224, 0.225])\n",
    "    ]),\n",
    "}\n",
    "\n",
    "data_dir = 'dataset'\n",
    "image_datasets = {x: datasets.ImageFolder(os.path.join(data_dir, x), data_transforms[x])\n",
    "                  for x in ['train', 'test']}\n",
    "dataloaders = {x: DataLoader(image_datasets[x], batch_size=4, shuffle=True, num_workers=4)\n",
    "               for x in ['train', 'test']}\n",
    "dataset_sizes = {x: len(image_datasets[x]) for x in ['train', 'test']}\n",
    "class_names = image_datasets['train'].classes"
   ]
  },
  {
   "cell_type": "code",
   "execution_count": null,
   "id": "d03b230e-f0f9-4c74-9e1e-8333a86c2e71",
   "metadata": {},
   "outputs": [],
   "source": [
    "Visualisasi Beberapa Gambar dari Dataset"
   ]
  },
  {
   "cell_type": "code",
   "execution_count": 5,
   "id": "33964ea4-c68e-4e85-947f-4a9d13a63324",
   "metadata": {},
   "outputs": [],
   "source": [
    "def imshow(inp, title=None):\n",
    "    \"\"\"Imshow for Tensor.\"\"\"\n",
    "    inp = inp.numpy().transpose((1, 2, 0))\n",
    "    mean = np.array([0.485, 0.456, 0.406])\n",
    "    std = np.array([0.229, 0.224, 0.225])\n",
    "    inp = std * inp + mean\n",
    "    inp = np.clip(inp, 0, 1)\n",
    "    plt.imshow(inp)\n",
    "    if title is not None:\n",
    "        plt.title(title)\n",
    "    plt.pause(0.001)  # pause a bit so that plots are updated"
   ]
  },
  {
   "cell_type": "code",
   "execution_count": null,
   "id": "cd4d9128-f914-4665-aa29-2cd6efc035ba",
   "metadata": {},
   "outputs": [],
   "source": [
    "Mendapatkan batch gambar"
   ]
  },
  {
   "cell_type": "code",
   "execution_count": 6,
   "id": "4554e065-e98f-4ae3-8a74-b6270cf7deba",
   "metadata": {},
   "outputs": [],
   "source": [
    "inputs, classes = next(iter(dataloaders['train']))"
   ]
  },
  {
   "cell_type": "code",
   "execution_count": null,
   "id": "3e05e2c3-eb4d-48ec-a433-eae1cd80082a",
   "metadata": {},
   "outputs": [],
   "source": [
    "Membuat grid dari gambar"
   ]
  },
  {
   "cell_type": "code",
   "execution_count": 10,
   "id": "2d02a275-501a-4d15-88d8-93ed01ff1ee0",
   "metadata": {},
   "outputs": [
    {
     "data": {
      "image/png": "[encoded data removed]",
      "text/plain": [
       "<Figure size 640x480 with 1 Axes>"
      ]
     },
     "metadata": {},
     "output_type": "display_data"
    }
   ],
   "source": [
    "out = torchvision.utils.make_grid(inputs)\n",
    "\n",
    "imshow(out, title=[class_names[x] for x in classes])"
   ]
  },
  {
   "cell_type": "code",
   "execution_count": null,
   "id": "059d96e2-a87e-4923-a019-da7e19bb1d08",
   "metadata": {},
   "outputs": [],
   "source": [
    "Load Model ResNet50 Pretrained dan Modifikasi Layer Akhir"
   ]
  },
  {
   "cell_type": "code",
   "execution_count": 14,
   "id": "6eca356c-5e46-4b94-b872-61d3ef88b8db",
   "metadata": {},
   "outputs": [],
   "source": [
    "model_ft = models.resnet50(pretrained=True)\n",
    "num_ftrs = model_ft.fc.in_features\n",
    "model_ft.fc = nn.Linear(num_ftrs, 2)  # 2 kelas (on_time dan not_on_time)\n",
    "\n",
    "model_ft = model_ft.to(device)\n",
    "\n",
    "criterion = nn.CrossEntropyLoss()"
   ]
  },
  {
   "cell_type": "code",
   "execution_count": null,
   "id": "776297fa-d33e-4d2f-b520-7a967973e9fd",
   "metadata": {},
   "outputs": [],
   "source": [
    "Menggunakan SGD dengan momentum"
   ]
  },
  {
   "cell_type": "code",
   "execution_count": 15,
   "id": "56aecaf1-5e89-4e52-9a85-a73498cfa36d",
   "metadata": {},
   "outputs": [],
   "source": [
    "optimizer_ft = optim.SGD(model_ft.parameters(), lr=0.001, momentum=0.9)"
   ]
  },
  {
   "cell_type": "code",
   "execution_count": null,
   "id": "912584c2-f8ab-4483-9a4d-9b6543937fe6",
   "metadata": {},
   "outputs": [],
   "source": [
    "Scheduler untuk Mengurangi Learning Rate"
   ]
  },
  {
   "cell_type": "code",
   "execution_count": 16,
   "id": "2e5694d4-81f1-4aca-8c42-f8e81be50d59",
   "metadata": {},
   "outputs": [],
   "source": [
    "exp_lr_scheduler = lr_scheduler.StepLR(optimizer_ft, step_size=7, gamma=0.1)"
   ]
  },
  {
   "cell_type": "code",
   "execution_count": null,
   "id": "0c384262-8ab1-4624-9d92-354aaef3921b",
   "metadata": {},
   "outputs": [],
   "source": [
    "Training Model"
   ]
  },
  {
   "cell_type": "code",
   "execution_count": 17,
   "id": "5bc87771-1acc-423a-9634-ad30dccaf511",
   "metadata": {},
   "outputs": [],
   "source": [
    "def train_model(model, criterion, optimizer, scheduler, num_epochs=25):\n",
    "    since = time.time()\n",
    "\n",
    "    best_model_wts = copy.deepcopy(model.state_dict())\n",
    "    best_acc = 0.0\n",
    "\n",
    "    for epoch in range(num_epochs):\n",
    "        print('Epoch {}/{}'.format(epoch, num_epochs - 1))\n",
    "        print('-' * 10)\n",
    "\n",
    "        # Setiap epoch memiliki fase training dan fase testing\n",
    "        for phase in ['train', 'test']:\n",
    "            if phase == 'train':\n",
    "                model.train()  # Set model ke mode training\n",
    "            else:\n",
    "                model.eval()   # Set model ke mode evaluasi\n",
    "\n",
    "            running_loss = 0.0\n",
    "            running_corrects = 0\n",
    "\n",
    "            # Iterasi melalui data.\n",
    "            for inputs, labels in dataloaders[phase]:\n",
    "                inputs = inputs.to(device)\n",
    "                labels = labels.to(device)\n",
    "\n",
    "                # Zero the parameter gradients\n",
    "                optimizer.zero_grad()\n",
    "\n",
    "                # Forward\n",
    "                # Track history only in train\n",
    "                with torch.set_grad_enabled(phase == 'train'):\n",
    "                    outputs = model(inputs)\n",
    "                    _, preds = torch.max(outputs, 1)\n",
    "                    loss = criterion(outputs, labels)\n",
    "\n",
    "                    # Backward + optimize only if in training phase\n",
    "                    if phase == 'train':\n",
    "                        loss.backward()\n",
    "                        optimizer.step()\n",
    "\n",
    "                # Statistics\n",
    "                running_loss += loss.item() * inputs.size(0)\n",
    "                running_corrects += torch.sum(preds == labels.data)\n",
    "\n",
    "            if phase == 'train':\n",
    "                scheduler.step()\n",
    "\n",
    "            epoch_loss = running_loss / dataset_sizes[phase]\n",
    "            epoch_acc = running_corrects.double() / dataset_sizes[phase]\n",
    "\n",
    "            print('{} Loss: {:.4f} Acc: {:.4f}'.format(\n",
    "                phase, epoch_loss, epoch_acc))\n",
    "\n",
    "            # Deep copy the model\n",
    "            if phase == 'test' and epoch_acc > best_acc:\n",
    "                best_acc = epoch_acc\n",
    "                best_model_wts = copy.deepcopy(model.state_dict())\n",
    "\n",
    "        print()\n",
    "\n",
    "    time_elapsed = time.time() - since\n",
    "    print('Training complete in {:.0f}m {:.0f}s'.format(\n",
    "        time_elapsed // 60, time_elapsed % 60))\n",
    "    print('Best test Acc: {:4f}'.format(best_acc))\n",
    "\n",
    "    # Load best model weights\n",
    "    model.load_state_dict(best_model_wts)\n",
    "    return model"
   ]
  },
  {
   "cell_type": "code",
   "execution_count": null,
   "id": "f5383b42-2fba-40d2-9b2d-f12cd355c417",
   "metadata": {},
   "outputs": [],
   "source": [
    "Jalankan Training"
   ]
  },
  {
   "cell_type": "code",
   "execution_count": 18,
   "id": "9a15bc2d-2f15-4519-a35d-7c11a74b58e0",
   "metadata": {},
   "outputs": [
    {
     "name": "stdout",
     "output_type": "stream",
     "text": [
      "Epoch 0/24\n",
      "----------\n",
      "train Loss: 0.6789 Acc: 0.6500\n",
      "test Loss: 0.6787 Acc: 0.6500\n",
      "\n",
      "Epoch 1/24\n",
      "----------\n",
      "train Loss: 0.7008 Acc: 0.5625\n",
      "test Loss: 1.1644 Acc: 0.5000\n",
      "\n",
      "Epoch 2/24\n",
      "----------\n",
      "train Loss: 0.8646 Acc: 0.5625\n",
      "test Loss: 1.2617 Acc: 0.5000\n",
      "\n",
      "Epoch 3/24\n",
      "----------\n",
      "train Loss: 0.9228 Acc: 0.5375\n",
      "test Loss: 1.5931 Acc: 0.5000\n",
      "\n",
      "Epoch 4/24\n",
      "----------\n",
      "train Loss: 1.1708 Acc: 0.5375\n",
      "test Loss: 1.7081 Acc: 0.5000\n",
      "\n",
      "Epoch 5/24\n",
      "----------\n",
      "train Loss: 0.9481 Acc: 0.6000\n",
      "test Loss: 1.1069 Acc: 0.3500\n",
      "\n",
      "Epoch 6/24\n",
      "----------\n",
      "train Loss: 0.5958 Acc: 0.7250\n",
      "test Loss: 1.0819 Acc: 0.4000\n",
      "\n",
      "Epoch 7/24\n",
      "----------\n",
      "train Loss: 0.5780 Acc: 0.7000\n",
      "test Loss: 1.0652 Acc: 0.6000\n",
      "\n",
      "Epoch 8/24\n",
      "----------\n",
      "train Loss: 0.4307 Acc: 0.8500\n",
      "test Loss: 0.9235 Acc: 0.5000\n",
      "\n",
      "Epoch 9/24\n",
      "----------\n",
      "train Loss: 0.4968 Acc: 0.8000\n",
      "test Loss: 1.0181 Acc: 0.6000\n",
      "\n",
      "Epoch 10/24\n",
      "----------\n",
      "train Loss: 0.5092 Acc: 0.7875\n",
      "test Loss: 0.9261 Acc: 0.5500\n",
      "\n",
      "Epoch 11/24\n",
      "----------\n",
      "train Loss: 0.4796 Acc: 0.7625\n",
      "test Loss: 0.9095 Acc: 0.5500\n",
      "\n",
      "Epoch 12/24\n",
      "----------\n",
      "train Loss: 0.4728 Acc: 0.7750\n",
      "test Loss: 0.8754 Acc: 0.5500\n",
      "\n",
      "Epoch 13/24\n",
      "----------\n",
      "train Loss: 0.4730 Acc: 0.7750\n",
      "test Loss: 1.0204 Acc: 0.5000\n",
      "\n",
      "Epoch 14/24\n",
      "----------\n",
      "train Loss: 0.4594 Acc: 0.7750\n",
      "test Loss: 1.0303 Acc: 0.4000\n",
      "\n",
      "Epoch 15/24\n",
      "----------\n",
      "train Loss: 0.5076 Acc: 0.7750\n",
      "test Loss: 0.9989 Acc: 0.5500\n",
      "\n",
      "Epoch 16/24\n",
      "----------\n",
      "train Loss: 0.5030 Acc: 0.7375\n",
      "test Loss: 0.9699 Acc: 0.5500\n",
      "\n",
      "Epoch 17/24\n",
      "----------\n",
      "train Loss: 0.4823 Acc: 0.7875\n",
      "test Loss: 0.9006 Acc: 0.6000\n",
      "\n",
      "Epoch 18/24\n",
      "----------\n",
      "train Loss: 0.4294 Acc: 0.8000\n",
      "test Loss: 1.0512 Acc: 0.4500\n",
      "\n",
      "Epoch 19/24\n",
      "----------\n",
      "train Loss: 0.4711 Acc: 0.8000\n",
      "test Loss: 0.9435 Acc: 0.4500\n",
      "\n",
      "Epoch 20/24\n",
      "----------\n",
      "train Loss: 0.4752 Acc: 0.7375\n",
      "test Loss: 0.9355 Acc: 0.5500\n",
      "\n",
      "Epoch 21/24\n",
      "----------\n",
      "train Loss: 0.4897 Acc: 0.7500\n",
      "test Loss: 0.9453 Acc: 0.5000\n",
      "\n",
      "Epoch 22/24\n",
      "----------\n",
      "train Loss: 0.4276 Acc: 0.8000\n",
      "test Loss: 0.9652 Acc: 0.5000\n",
      "\n",
      "Epoch 23/24\n",
      "----------\n",
      "train Loss: 0.4625 Acc: 0.7750\n",
      "test Loss: 0.9497 Acc: 0.5500\n",
      "\n",
      "Epoch 24/24\n",
      "----------\n",
      "train Loss: 0.3781 Acc: 0.8375\n",
      "test Loss: 0.9138 Acc: 0.5500\n",
      "\n",
      "Training complete in 19m 58s\n",
      "Best test Acc: 0.650000\n"
     ]
    }
   ],
   "source": [
    "model_ft = train_model(model_ft, criterion, optimizer_ft, exp_lr_scheduler, num_epochs=25)"
   ]
  },
  {
   "cell_type": "code",
   "execution_count": null,
   "id": "5a713fbe-fb67-4925-8f36-d3ef39a5263e",
   "metadata": {},
   "outputs": [],
   "source": [
    "Evaluasi Model"
   ]
  },
  {
   "cell_type": "code",
   "execution_count": 19,
   "id": "8bd017c7-9d62-4a91-8052-e09534aa33ec",
   "metadata": {},
   "outputs": [],
   "source": [
    "def evaluate_model(model, dataloaders, class_names, device):\n",
    "    model.eval()\n",
    "    all_preds = []\n",
    "    all_labels = []\n",
    "    with torch.no_grad():\n",
    "        for inputs, labels in dataloaders['test']:\n",
    "            inputs = inputs.to(device)\n",
    "            labels = labels.to(device)\n",
    "            outputs = model(inputs)\n",
    "            _, preds = torch.max(outputs, 1)\n",
    "            all_preds.extend(preds.cpu().numpy())\n",
    "            all_labels.extend(labels.cpu().numpy())\n",
    "\n",
    "    return all_preds, all_labels\n",
    "\n",
    "preds, labels = evaluate_model(model_ft, dataloaders, class_names, device)"
   ]
  },
  {
   "cell_type": "code",
   "execution_count": null,
   "id": "afbd9527-f877-458e-b6bb-ed5ca0b6ab0b",
   "metadata": {},
   "outputs": [],
   "source": [
    "Visualisasi Hasil Evaluasi"
   ]
  },
  {
   "cell_type": "code",
   "execution_count": 20,
   "id": "2115f090-7212-4962-ad36-602086296eb4",
   "metadata": {},
   "outputs": [
    {
     "name": "stdout",
     "output_type": "stream",
     "text": [
      "              precision    recall  f1-score   support\n",
      "\n",
      " not_on_time       0.71      0.50      0.59        10\n",
      "     on_time       0.62      0.80      0.70        10\n",
      "\n",
      "    accuracy                           0.65        20\n",
      "   macro avg       0.66      0.65      0.64        20\n",
      "weighted avg       0.66      0.65      0.64        20\n",
      "\n",
      "[[5 5]\n",
      " [2 8]]\n"
     ]
    },
    {
     "data": {
      "image/png": "[encoded data removed]",
      "text/plain": [
       "<Figure size 640x480 with 2 Axes>"
      ]
     },
     "metadata": {},
     "output_type": "display_data"
    }
   ],
   "source": [
    "from sklearn.metrics import classification_report, confusion_matrix\n",
    "print(classification_report(labels, preds, target_names=class_names))\n",
    "print(confusion_matrix(labels, preds))\n",
    "\n",
    "# Plot confusion matrix\n",
    "import seaborn as sns\n",
    "sns.heatmap(confusion_matrix(labels, preds), annot=True, fmt=\"d\", cmap=\"Blues\", xticklabels=class_names, yticklabels=class_names)\n",
    "plt.xlabel('Predicted')\n",
    "plt.ylabel('Actual')\n",
    "plt.title('Confusion Matrix')\n",
    "plt.show()"
   ]
  },
  {
   "cell_type": "code",
   "execution_count": 21,
   "id": "884bfedc-ba69-493c-b7c5-7ed26a12d8fc",
   "metadata": {},
   "outputs": [
    {
     "name": "stdout",
     "output_type": "stream",
     "text": [
      "Model telah disimpan.\n"
     ]
    }
   ],
   "source": [
    "torch.save(model_ft.state_dict(), 'resnet50_signature_model.pth')\n",
    "print(\"Model telah disimpan.\")"
   ]
  },
  {
   "cell_type": "code",
   "execution_count": 1,
   "id": "6d7dc4ae-e1a9-4bcf-9e41-d6c6a2e3f0f2",
   "metadata": {},
   "outputs": [
    {
     "name": "stdout",
     "output_type": "stream",
     "text": [
      "2.3.0+cpu\n"
     ]
    }
   ],
   "source": [
    "import torch\n",
    "print(torch.__version__)"
   ]
  },
  {
   "cell_type": "code",
   "execution_count": null,
   "id": "126da3a1-10c5-43f3-807b-9d99fdc36753",
   "metadata": {},
   "outputs": [],
   "source": []
  }
 ],
 "metadata": {
  "kernelspec": {
   "display_name": "Python 3 (ipykernel)",
   "language": "python",
   "name": "python3"
  },
  "language_info": {
   "codemirror_mode": {
    "name": "ipython",
    "version": 3
   },
   "file_extension": ".py",
   "mimetype": "text/x-python",
   "name": "python",
   "nbconvert_exporter": "python",
   "pygments_lexer": "ipython3",
   "version": "3.12.4"
  }
 },
 "nbformat": 4,
 "nbformat_minor": 5
}
